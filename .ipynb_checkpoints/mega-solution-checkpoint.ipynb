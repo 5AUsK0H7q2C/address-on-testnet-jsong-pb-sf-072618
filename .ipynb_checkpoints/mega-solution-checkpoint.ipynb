{
 "cells": [
  {
   "cell_type": "markdown",
   "metadata": {},
   "source": [
    "### Exercise 8\n",
    "\n",
    "#### 8.1. Create a testnet address using your own secret key\n",
    "#### (use your phone number if you can't think of anything)\n",
    "#### Record this secret key for tomorrow!"
   ]
  },
  {
   "cell_type": "code",
   "execution_count": 1,
   "metadata": {},
   "outputs": [
    {
     "name": "stdout",
     "output_type": "stream",
     "text": [
      "miKegze5FQNCnGw6PKyqUbYUeBa4x2hFeM\n"
     ]
    }
   ],
   "source": [
    "# Exercise 8.1\n",
    "from ecc import G\n",
    "\n",
    "# use your phone number if you can't think of anything\n",
    "secret = 1800555555518005555555\n",
    "\n",
    "# get the public point\n",
    "point = secret*G\n",
    "# if you completed 7.2, just do the .address(testnet=True) method on the public point\n",
    "print(point.address(testnet=True))"
   ]
  },
  {
   "cell_type": "code",
   "execution_count": null,
   "metadata": {},
   "outputs": [],
   "source": []
  }
 ],
 "metadata": {
  "kernelspec": {
   "display_name": "Python 3",
   "language": "python",
   "name": "python3"
  },
  "language_info": {
   "codemirror_mode": {
    "name": "ipython",
    "version": 3
   },
   "file_extension": ".py",
   "mimetype": "text/x-python",
   "name": "python",
   "nbconvert_exporter": "python",
   "pygments_lexer": "ipython3",
   "version": "3.6.5"
  }
 },
 "nbformat": 4,
 "nbformat_minor": 2
}
